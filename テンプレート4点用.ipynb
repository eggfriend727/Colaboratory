{
  "nbformat": 4,
  "nbformat_minor": 0,
  "metadata": {
    "colab": {
      "name": "テンプレート4点用.ipynb",
      "provenance": [],
      "include_colab_link": true
    },
    "kernelspec": {
      "name": "python3",
      "display_name": "Python 3"
    },
    "language_info": {
      "name": "python"
    }
  },
  "cells": [
    {
      "cell_type": "markdown",
      "metadata": {
        "id": "view-in-github",
        "colab_type": "text"
      },
      "source": [
        "<a href=\"https://colab.research.google.com/github/eggfriend727/Colaboratory/blob/main/%E3%83%86%E3%83%B3%E3%83%97%E3%83%AC%E3%83%BC%E3%83%884%E7%82%B9%E7%94%A8.ipynb\" target=\"_parent\"><img src=\"https://colab.research.google.com/assets/colab-badge.svg\" alt=\"Open In Colab\"/></a>"
      ]
    },
    {
      "cell_type": "code",
      "metadata": {
        "id": "D3-S8m4DG-Wg"
      },
      "source": [
        "import numpy as np                #numpy\n",
        "import matplotlib.pyplot as plt   #matplot\n",
        "!pip install japanize-matplotlib  #軸ラベルに日本語を使いたいので、japanize-matplotlibをインストールする\n",
        "import japanize_matplotlib\n",
        "from google.colab import drive    #googledrive からデータを読み込めるようにする\n",
        "drive.mount('/content/drive')\n",
        "import pandas as pd               #csvファイルの処理用\n",
        "np.set_printoptions(suppress=True) #numpy.ndarrayを指数表記にする/しない（suppress）"
      ],
      "execution_count": null,
      "outputs": []
    },
    {
      "cell_type": "code",
      "metadata": {
        "id": "_tX5SUh7HwO_"
      },
      "source": [
        "#設定項目\n",
        "G = 9.80665      #地球の標準重力 (m/s^2)\n",
        "dr = 8          #データを何個置きに取得するかのパラメータ、(データ数/dr)個のデータが出力される\n",
        "\n",
        "#関数\n",
        "#csvファイル読み込み⇒numpy.ndarrayに変換\n",
        "def read_data(filename):\n",
        "    data = pd.read_table(filename,header=None)   #csvファイルを読み込む、pd.read_tableはスペース区切り、header=はヘッダーオプション\n",
        "    npdata = data.values                         #データ処理のため、pandas.core.frame.DataFrameをnumpy.ndarrayに変換\n",
        "    return npdata\n",
        "\n",
        "#データレートを下げる関数\n",
        "def data_rate_down(npdata,dr):\n",
        "    k = 0\n",
        "    n = len(npdata)                  #データ数\n",
        "    nd = -(-n // dr)                 #nをsrで割って小数点以下切り上げ\n",
        "    data_rd = np.zeros((nd,4))       #データ処理のため、nd*4のゼロ行列を作成\n",
        "\n",
        "    for j in range(0,n,dr):          #0からnまでdrおきに以下の処理を繰り返す\n",
        "        data_rd[k,:] = npdata[j,:]   #data_rdにdrおきのデータを代入\n",
        "        k += 1\n",
        "    return data_rd\n",
        "\n",
        "#合成加速度を計算\n",
        "def res_acc(data_rd,G):\n",
        "    res_data = ((data_rd[:,1])**2 + (data_rd[:,2])**2 + (data_rd[:,3])**2)**(1/2) - G\n",
        "    return res_data"
      ],
      "execution_count": null,
      "outputs": []
    },
    {
      "cell_type": "code",
      "metadata": {
        "id": "aP7xXRk5H0Cz"
      },
      "source": [
        "npdata02 = read_data('drive/My Drive/data/11-xx/csv/.csv') #以下4行ファイル名を入力\n",
        "npdata03 = read_data('drive/My Drive/data/11-xx/csv/.csv') #\n",
        "npdata04 = read_data('drive/My Drive/data/11-xx/csv/.csv') #\n",
        "npdata05 = read_data('drive/My Drive/data/11-xx/csv/.csv') #\n",
        "\n",
        "#データレートを下げる\n",
        "print('データ数')\n",
        "print('削減前','削減後')\n",
        "data_rd02 = data_rate_down(npdata02,dr) #以下4行データレートの間隔調整\n",
        "print(len(npdata02),len(data_rd02))\n",
        "data_rd03 = data_rate_down(npdata03,dr) #\n",
        "print(len(npdata03),len(data_rd03))\n",
        "data_rd04 = data_rate_down(npdata04,dr) #\n",
        "print(len(npdata04),len(data_rd04))\n",
        "data_rd05 = data_rate_down(npdata05,dr) #\n",
        "print(len(npdata05),len(data_rd05))\n",
        "\n",
        "#合成加速度の計算\n",
        "res_data02 = res_acc(data_rd02,G)\n",
        "res_data03 = res_acc(data_rd03,G)\n",
        "res_data04 = res_acc(data_rd04,G)\n",
        "res_data05 = res_acc(data_rd05,G)\n",
        "\n",
        "#グラフ描画\n",
        "fig = plt.figure(figsize=(28,15),facecolor='w')\n",
        "ax1 = fig.add_subplot(2,2,1, ylim=(-10,205)) #x,yの幅を変更\n",
        "ax2 = fig.add_subplot(2,2,2, ylim=(-10,205))\n",
        "ax3 = fig.add_subplot(2,2,3, ylim=(-10,205))\n",
        "ax4 = fig.add_subplot(2,2,4, ylim=(-10,205))\n",
        "\n",
        "ax1.plot(data_rd02[:,0],res_data02,'b') #axn.plot(縦軸,横軸,色指定,線のラベル)\n",
        "ax2.plot(data_rd03[:,0],res_data03,'r') #'b'は線の色一文字指定　b=blue g=green r=red c=cyan m=magenta y=yellow k=black w=white\n",
        "ax3.plot(data_rd04[:,0],res_data04,'g')\n",
        "ax4.plot(data_rd05[:,0],res_data05,'y')\n",
        "\n",
        "#ax1.set_xlabel('Time(sec)',fontsize=18)\n",
        "ax1.set_ylabel('$m/s^{2}$',fontsize=18)\n",
        "#ax2.set_xlabel('Time(sec)',fontsize=18)\n",
        "#ax2.set_ylabel('m/s^2',fontsize=18)\n",
        "ax3.set_xlabel('Time(sec)',fontsize=18)\n",
        "ax3.set_ylabel('m/s^{2}$',fontsize=18)\n",
        "ax4.set_xlabel('Time(sec)',fontsize=18)\n",
        "#ax4.set_ylabel('m/s^2',fontsize=18)\n",
        "\n",
        "ax1.set_title('0x どこ？',fontsize=25) #以下4行'ラズパイ 場所'を入力\n",
        "ax2.set_title('0x どこ？',fontsize=25) #\n",
        "ax3.set_title('0x どこ？',fontsize=25) #\n",
        "ax4.set_title('0x どこ？',fontsize=25) #\n",
        "\n",
        "ax1.tick_params(labelsize=18)\n",
        "ax2.tick_params(labelsize=18)\n",
        "ax3.tick_params(labelsize=18)\n",
        "ax4.tick_params(labelsize=18)\n",
        "\n",
        "plt.suptitle('タイトル sr：100Hz',fontsize=35) #タイトルを入力\n",
        "\n",
        "ax1.grid()\n",
        "ax2.grid()\n",
        "ax3.grid()\n",
        "ax4.grid()\n",
        "plt.show()"
      ],
      "execution_count": null,
      "outputs": []
    }
  ]
}